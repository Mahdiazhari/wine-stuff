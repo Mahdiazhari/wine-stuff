{
 "cells": [
  {
   "cell_type": "code",
   "execution_count": 3,
   "metadata": {
    "collapsed": true
   },
   "outputs": [],
   "source": [
    "import numpy as np\n",
    "import csv"
   ]
  },
  {
   "cell_type": "code",
   "execution_count": 56,
   "metadata": {
    "collapsed": true
   },
   "outputs": [],
   "source": [
    "def preprocess(file_name):\n",
    "    results = []\n",
    "    with open(file_name) as csvfile:\n",
    "        wine_reader = csv.reader(csvfile, dialect=\"excel\", delimiter=';')\n",
    "        for row in wine_reader:\n",
    "            results.append(row)\n",
    "    name_features = results[0]\n",
    "    #print(name_features)\n",
    "    parsed_results = []\n",
    "    for row in results[1:]:\n",
    "        new_row = []\n",
    "        for num in row:\n",
    "            new_row.append(float(num))\n",
    "        parsed_results.append(new_row)\n",
    "    parsed_results = np.array(parsed_results)\n",
    "    n_instances = parsed_results.shape[0]\n",
    "    n_features = parsed_results.shape[1] - 1\n",
    "    labels = parsed_results[:, n_features]\n",
    "    instances = parsed_results[:, : n_features]\n",
    "    return instances, labels\n",
    "white_instances, white_labels = preprocess('winequality-white.csv')\n",
    "red_instances, red_labels = preprocess('winequality-red.csv')\n",
    "transformed_white_labels = np.array([0 if num <6 else 1 for num in white_labels])\n",
    "transformed_red_labels = np.array([0 if num <6 else 1 for num in red_labels])"
   ]
  },
  {
   "cell_type": "code",
   "execution_count": 36,
   "metadata": {
    "collapsed": true
   },
   "outputs": [],
   "source": [
    "from sklearn.ensemble import RandomForestClassifier\n",
    "from sklearn.tree import DecisionTreeClassifier\n",
    "from sklearn.linear_model import LogisticRegression #logistic regression classifier\n",
    "\n",
    "from sklearn.model_selection import train_test_split\n",
    "from sklearn.preprocessing import StandardScaler # to normalize data (NN is very sensitive to this!)\n",
    "from sklearn.model_selection import cross_val_score, GridSearchCV #BONUS"
   ]
  },
  {
   "cell_type": "code",
   "execution_count": 58,
   "metadata": {
    "collapsed": true
   },
   "outputs": [],
   "source": [
    "X_train_white, X_test_white, y_train_white, y_test_white = train_test_split(white_instances, transformed_white_labels)"
   ]
  },
  {
   "cell_type": "code",
   "execution_count": 57,
   "metadata": {},
   "outputs": [],
   "source": [
    "X_train_red, X_test_red, y_train_red, y_test_red = train_test_split(red_instances, transformed_red_labels)"
   ]
  },
  {
   "cell_type": "code",
   "execution_count": 59,
   "metadata": {
    "collapsed": true
   },
   "outputs": [],
   "source": [
    "scaler = StandardScaler()\n",
    "scaler.fit(X_train_white)\n",
    "scaler.fit(X_test_white)\n",
    "normalised_X_train_white = scaler.transform(X_train_white)\n",
    "normalised_X_test_white = scaler.transform(X_test_white)"
   ]
  },
  {
   "cell_type": "code",
   "execution_count": 60,
   "metadata": {
    "collapsed": true
   },
   "outputs": [],
   "source": [
    "scaler.fit(X_train_red)\n",
    "scaler.fit(X_test_red)\n",
    "normalised_X_train_red = scaler.transform(X_train_red)\n",
    "normalised_X_test_red = scaler.transform(X_test_red)"
   ]
  },
  {
   "cell_type": "code",
   "execution_count": 61,
   "metadata": {},
   "outputs": [
    {
     "name": "stdout",
     "output_type": "stream",
     "text": [
      "Before customisation, average accuracy of RFC :  0.780645303466  standard deviation:  0.0189621698715\n",
      "Before customisation, average accuracy of DT :  0.726403219295  standard deviation:  0.0160724698941\n",
      "Before customisation, average accuracy of Log :  0.737269904851  standard deviation:  0.0267064893314\n"
     ]
    }
   ],
   "source": [
    "random_forest = RandomForestClassifier()\n",
    "decision_tree = DecisionTreeClassifier()\n",
    "logr_regr = LogisticRegression()\n",
    "random_forest.fit(normalised_X_train_red, y_train_red)\n",
    "decision_tree.fit(normalised_X_train_red, y_train_red)\n",
    "logr_regr.fit(normalised_X_train_red, y_train_red)\n",
    "def report_accuracy(moment, clf_name, clf, x_train, y_train):\n",
    "    cv_error = cross_val_score(clf, x_train, y_train, scoring=\"accuracy\", cv=4)\n",
    "    print(moment + \" customisation, average accuracy of \" + clf_name + \" : \", cv_error.mean(), \" standard deviation: \", np.std(cv_error))\n",
    "report_accuracy(\"Before\", \"RFC\", random_forest, normalised_X_train_red, y_train_red)  \n",
    "report_accuracy(\"Before\", \"DT\", decision_tree, normalised_X_train_red, y_train_red) \n",
    "report_accuracy(\"Before\", \"Log\", logr_regr, normalised_X_train_red, y_train_red)          "
   ]
  },
  {
   "cell_type": "code",
   "execution_count": null,
   "metadata": {},
   "outputs": [],
   "source": []
  },
  {
   "cell_type": "code",
   "execution_count": null,
   "metadata": {
    "collapsed": true
   },
   "outputs": [],
   "source": []
  }
 ],
 "metadata": {
  "kernelspec": {
   "display_name": "Python [conda root]",
   "language": "python",
   "name": "conda-root-py"
  },
  "language_info": {
   "codemirror_mode": {
    "name": "ipython",
    "version": 3
   },
   "file_extension": ".py",
   "mimetype": "text/x-python",
   "name": "python",
   "nbconvert_exporter": "python",
   "pygments_lexer": "ipython3",
   "version": "3.6.1"
  }
 },
 "nbformat": 4,
 "nbformat_minor": 2
}
