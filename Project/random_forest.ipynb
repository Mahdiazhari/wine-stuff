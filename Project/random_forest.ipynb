{
 "cells": [
  {
   "cell_type": "code",
   "execution_count": 3,
   "metadata": {
    "collapsed": true
   },
   "outputs": [],
   "source": [
    "import numpy as np\n",
    "import csv"
   ]
  },
  {
   "cell_type": "code",
   "execution_count": 4,
   "metadata": {
    "collapsed": true
   },
   "outputs": [],
   "source": [
    "def preprocess(file_name):\n",
    "    results = []\n",
    "    with open(file_name) as csvfile:\n",
    "        wine_reader = csv.reader(csvfile, dialect=\"excel\", delimiter=';')\n",
    "        for row in wine_reader:\n",
    "            results.append(row)\n",
    "    name_features = results[0]\n",
    "    #print(name_features)\n",
    "    parsed_results = []\n",
    "    for row in results[1:]:\n",
    "        new_row = []\n",
    "        for num in row:\n",
    "            new_row.append(float(num))\n",
    "        parsed_results.append(new_row)\n",
    "    parsed_results = np.array(parsed_results)\n",
    "    n_instances = parsed_results.shape[0]\n",
    "    n_features = parsed_results.shape[1] - 1\n",
    "    labels = parsed_results[:, n_features]\n",
    "    instances = parsed_results[:, : n_features]\n",
    "    return instances, labels\n",
    "white_instances, white_labels = preprocess('winequality-white.csv')\n",
    "red_instances, red_labels = preprocess('winequality-red.csv')"
   ]
  },
  {
   "cell_type": "code",
   "execution_count": 14,
   "metadata": {
    "collapsed": true
   },
   "outputs": [],
   "source": [
    "from sklearn.ensemble import RandomForestClassifier\n",
    "from sklearn.tree import DecisionTreeClassifier\n",
    "from sklearn.model_selection import train_test_split\n",
    "from sklearn.preprocessing import StandardScaler # to normalize data (NN is very sensitive to this!)\n"
   ]
  },
  {
   "cell_type": "code",
   "execution_count": 7,
   "metadata": {
    "collapsed": true
   },
   "outputs": [],
   "source": [
    "X_train_white, X_test_white, y_train_white, y_test_white = train_test_split(white_instances, white_labels)"
   ]
  },
  {
   "cell_type": "code",
   "execution_count": 13,
   "metadata": {},
   "outputs": [],
   "source": [
    "X_train_red, X_test_red, y_train_red, y_test_red = train_test_split(red_instances, red_labels)"
   ]
  },
  {
   "cell_type": "code",
   "execution_count": 16,
   "metadata": {
    "collapsed": true
   },
   "outputs": [],
   "source": [
    "scaler = StandardScaler()\n",
    "scaler.fit(X_train_white)\n",
    "scaler.fit(X_test_white)\n",
    "normalised_X_train_white = scaler.transform(X_train_white)\n",
    "normalised_X_test_white = scaler.transform(X_test_white)"
   ]
  },
  {
   "cell_type": "code",
   "execution_count": 17,
   "metadata": {
    "collapsed": true
   },
   "outputs": [],
   "source": [
    "scaler.fit(X_train_red)\n",
    "scaler.fit(X_test_red)\n",
    "normalised_X_train_red = scaler.transform(X_train_red)\n",
    "normalised_X_test_red = scaler.transform(X_test_red)"
   ]
  },
  {
   "cell_type": "code",
   "execution_count": null,
   "metadata": {
    "collapsed": true
   },
   "outputs": [],
   "source": []
  }
 ],
 "metadata": {
  "kernelspec": {
   "display_name": "Python [conda root]",
   "language": "python",
   "name": "conda-root-py"
  },
  "language_info": {
   "codemirror_mode": {
    "name": "ipython",
    "version": 3
   },
   "file_extension": ".py",
   "mimetype": "text/x-python",
   "name": "python",
   "nbconvert_exporter": "python",
   "pygments_lexer": "ipython3",
   "version": "3.6.1"
  }
 },
 "nbformat": 4,
 "nbformat_minor": 2
}
