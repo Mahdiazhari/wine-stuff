{
 "cells": [
  {
   "cell_type": "code",
   "execution_count": 77,
   "metadata": {
    "collapsed": true
   },
   "outputs": [],
   "source": [
    "import numpy as np\n",
    "import matplotlib.pyplot as plt\n",
    "import csv"
   ]
  },
  {
   "cell_type": "code",
   "execution_count": 56,
   "metadata": {
    "collapsed": true
   },
   "outputs": [],
   "source": [
    "def preprocess(file_name):\n",
    "    results = []\n",
    "    with open(file_name) as csvfile:\n",
    "        wine_reader = csv.reader(csvfile, dialect=\"excel\", delimiter=';')\n",
    "        for row in wine_reader:\n",
    "            results.append(row)\n",
    "    name_features = results[0]\n",
    "    #print(name_features)\n",
    "    parsed_results = []\n",
    "    for row in results[1:]:\n",
    "        new_row = []\n",
    "        for num in row:\n",
    "            new_row.append(float(num))\n",
    "        parsed_results.append(new_row)\n",
    "    parsed_results = np.array(parsed_results)\n",
    "    n_instances = parsed_results.shape[0]\n",
    "    n_features = parsed_results.shape[1] - 1\n",
    "    labels = parsed_results[:, n_features]\n",
    "    instances = parsed_results[:, : n_features]\n",
    "    return instances, labels\n",
    "white_instances, white_labels = preprocess('winequality-white.csv')\n",
    "red_instances, red_labels = preprocess('winequality-red.csv')\n",
    "transformed_white_labels = np.array([0 if num <6 else 1 for num in white_labels])\n",
    "transformed_red_labels = np.array([0 if num <6 else 1 for num in red_labels])"
   ]
  },
  {
   "cell_type": "code",
   "execution_count": 89,
   "metadata": {
    "collapsed": true
   },
   "outputs": [],
   "source": [
    "from sklearn.ensemble import RandomForestClassifier\n",
    "from sklearn.tree import DecisionTreeClassifier\n",
    "from sklearn.linear_model import LogisticRegression #logistic regression classifier\n",
    "from sklearn.metrics import classification_report, accuracy_score, confusion_matrix # for reporting\n",
    "\n",
    "from sklearn.model_selection import train_test_split\n",
    "from sklearn.preprocessing import StandardScaler # to normalize data (NN is very sensitive to this!)\n",
    "from sklearn.model_selection import cross_val_score, GridSearchCV #BONUS"
   ]
  },
  {
   "cell_type": "code",
   "execution_count": 58,
   "metadata": {
    "collapsed": true
   },
   "outputs": [],
   "source": [
    "X_train_white, X_test_white, y_train_white, y_test_white = train_test_split(white_instances, transformed_white_labels)"
   ]
  },
  {
   "cell_type": "code",
   "execution_count": 57,
   "metadata": {},
   "outputs": [],
   "source": [
    "X_train_red, X_test_red, y_train_red, y_test_red = train_test_split(red_instances, transformed_red_labels)"
   ]
  },
  {
   "cell_type": "code",
   "execution_count": 66,
   "metadata": {
    "collapsed": true
   },
   "outputs": [],
   "source": [
    "random_forest = RandomForestClassifier()\n",
    "decision_tree = DecisionTreeClassifier()"
   ]
  },
  {
   "cell_type": "code",
   "execution_count": 84,
   "metadata": {},
   "outputs": [
    {
     "name": "stdout",
     "output_type": "stream",
     "text": [
      "Before customisation, average accuracy of RFC for red wine :  0.792285459638  standard deviation:  0.0309506454445\n",
      "Before customisation, average accuracy of DT for red wine :  0.749762599255  standard deviation:  0.0283700190396\n"
     ]
    }
   ],
   "source": [
    "random_forest_red = random_forest.fit(X_train_red, y_train_red)\n",
    "decision_tree_red = decision_tree.fit(X_train_red, y_train_red)\n",
    "def report_accuracy(moment, clf_name, clf, x_train, y_train):\n",
    "    cv_error = cross_val_score(clf, x_train, y_train, scoring=\"accuracy\", cv=10)\n",
    "    print(moment + \" customisation, average accuracy of \" + clf_name + \" : \", cv_error.mean(), \" standard deviation: \", np.std(cv_error))\n",
    "report_accuracy(\"Before\", \"RFC for red wine\", random_forest_red, X_train_red, y_train_red)  \n",
    "report_accuracy(\"Before\", \"DT for red wine\", decision_tree_red, X_train_red, y_train_red) "
   ]
  },
  {
   "cell_type": "code",
   "execution_count": 74,
   "metadata": {},
   "outputs": [
    {
     "name": "stdout",
     "output_type": "stream",
     "text": [
      "Before customisation, average accuracy of RFC for white wine :  0.816215961094  standard deviation:  0.0149786910191\n",
      "Before customisation, average accuracy of DT for white wine :  0.778923197534  standard deviation:  0.0158219755864\n"
     ]
    }
   ],
   "source": [
    "random_forest_white = random_forest.fit(X_train_white, y_train_white)\n",
    "decision_tree_white = decision_tree.fit(X_train_white, y_train_white)\n",
    "report_accuracy(\"Before\", \"RFC for white wine\", random_forest_white, X_train_white, y_train_white)\n",
    "report_accuracy(\"Before\", \"DT for white wine\", decision_tree_white, X_train_white, y_train_white)\n"
   ]
  },
  {
   "cell_type": "code",
   "execution_count": 79,
   "metadata": {
    "collapsed": true
   },
   "outputs": [],
   "source": []
  },
  {
   "cell_type": "code",
   "execution_count": 100,
   "metadata": {},
   "outputs": [
    {
     "data": {
      "text/plain": [
       "{'max_features': 'sqrt'}"
      ]
     },
     "execution_count": 100,
     "metadata": {},
     "output_type": "execute_result"
    }
   ],
   "source": [
    "tree_params = {'max_features': [None, 'auto', 'sqrt', 'log2']}\n",
    "gs = GridSearchCV(DecisionTreeClassifier(), param_grid=tree_params, cv=10)\n",
    "gs.fit(X_train_red, y_train_red)\n",
    "gs.best_params_"
   ]
  },
  {
   "cell_type": "code",
   "execution_count": 101,
   "metadata": {},
   "outputs": [
    {
     "data": {
      "text/plain": [
       "{'criterion': 'entropy', 'max_features': 'log2'}"
      ]
     },
     "execution_count": 101,
     "metadata": {},
     "output_type": "execute_result"
    }
   ],
   "source": [
    "rfc_params = {'max_features': [None, 'auto', 'sqrt', 'log2'], 'criterion': ['entropy', 'gini']}\n",
    "gs2 = GridSearchCV(RandomForestClassifier(), param_grid=rfc_params, cv=10)\n",
    "gs2.fit(X_train_red, y_train_red)\n",
    "gs2.best_params_"
   ]
  },
  {
   "cell_type": "code",
   "execution_count": 104,
   "metadata": {},
   "outputs": [
    {
     "name": "stdout",
     "output_type": "stream",
     "text": [
      "RFC for white wine's accuracy:  0.819591836735\n",
      "Report for RFC for white wine :\n",
      "              precision    recall  f1-score   support\n",
      "\n",
      "          0       0.75      0.72      0.74       426\n",
      "          1       0.85      0.87      0.86       799\n",
      "\n",
      "avg / total       0.82      0.82      0.82      1225\n",
      "\n",
      "RFC for red wine's accuracy:  0.795\n",
      "Report for RFC for red wine :\n",
      "              precision    recall  f1-score   support\n",
      "\n",
      "          0       0.73      0.85      0.79       179\n",
      "          1       0.86      0.75      0.80       221\n",
      "\n",
      "avg / total       0.80      0.80      0.80       400\n",
      "\n"
     ]
    }
   ],
   "source": [
    "rvc_customised = RandomForestClassifier(max_features='log2', criterion='entropy')\n",
    "def produce_report(clf_name, clf, x_train, y_train, x_test, y_test):\n",
    "    preds = clf.fit(x_train, y_train).predict(x_test)\n",
    "    print(clf_name + \"'s accuracy: \", accuracy_score(y_test, preds))\n",
    "    print(\"Report for \" + clf_name + \" :\\n\", classification_report(y_test, preds))\n",
    "    return preds\n",
    "rfc_preds_white = produce_report('RFC for white wine', rvc_customised, X_train_white, y_train_white, X_test_white, y_test_white)\n",
    "rfc_preds_red = produce_report('RFC for red wine', rvc_customised, X_train_red, y_train_red, X_test_red, y_test_red)"
   ]
  },
  {
   "cell_type": "code",
   "execution_count": null,
   "metadata": {
    "collapsed": true
   },
   "outputs": [],
   "source": []
  }
 ],
 "metadata": {
  "kernelspec": {
   "display_name": "Python [conda root]",
   "language": "python",
   "name": "conda-root-py"
  },
  "language_info": {
   "codemirror_mode": {
    "name": "ipython",
    "version": 3
   },
   "file_extension": ".py",
   "mimetype": "text/x-python",
   "name": "python",
   "nbconvert_exporter": "python",
   "pygments_lexer": "ipython3",
   "version": "3.6.1"
  }
 },
 "nbformat": 4,
 "nbformat_minor": 2
}
