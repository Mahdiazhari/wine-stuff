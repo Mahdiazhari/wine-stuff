{
 "cells": [
  {
   "cell_type": "markdown",
   "metadata": {},
   "source": [
    "# Wine Classification\n",
    "## Prediction of wine quality with the use of logistic regression"
   ]
  },
  {
   "cell_type": "code",
   "execution_count": 2,
   "metadata": {
    "collapsed": false
   },
   "outputs": [
    {
     "name": "stdout",
     "output_type": "stream",
     "text": [
      "Populating the interactive namespace from numpy and matplotlib\n"
     ]
    }
   ],
   "source": [
    "%pylab inline\n",
    "\n",
    "from sklearn.datasets import load_digits\n",
    "from sklearn.datasets import load_iris               # Data used in BONUS exercise\n",
    "from sklearn.preprocessing import StandardScaler     # to normalize data\n",
    "from sklearn.model_selection import train_test_split # to split in train and test set\n",
    "from sklearn.model_selection import cross_val_score  # for 10-fold cross validation\n",
    "from sklearn.linear_model import LogisticRegression  # logistic regression classifier\n",
    "from sklearn.neighbors import KNeighborsClassifier   # knn classifier\n",
    "from sklearn.metrics import precision_score, recall_score, confusion_matrix, classification_report, f1_score, precision_recall_curve\n",
    "\n",
    "#importing pre-processed data\n",
    "from file1 import *\n"
   ]
  },
  {
   "cell_type": "code",
   "execution_count": null,
   "metadata": {
    "collapsed": true
   },
   "outputs": [],
   "source": [
    "#initialization\n",
    "\n",
    "rw = \n",
    "ww = "
   ]
  },
  {
   "cell_type": "code",
   "execution_count": null,
   "metadata": {
    "collapsed": true
   },
   "outputs": [],
   "source": [
    "# 10-FOLD CROSS VALIDATION\n",
    "def cv_10f(model, Xw, yw, Xw_train, yw_train):\n",
    "    model = model.fit(Xw_train, yw_train)                  #fit model to scaled training data\n",
    "    score = cross_val_score(model, Xw, yw, cv=10)          #calculate accuracy for each cross validation \n",
    "    average_score = average(score)                         #average of the 10 cross validation accuracies\n",
    "    st_dev = score.std(axis=0)                             #standard deviation of 10-fold cross validation\n",
    "    cv10 = [score, average_score, st_dev]                  #stores values, so you do as few calculations as possible\n",
    "    return cv10 \n",
    "\n",
    "lr = LogisticRegression()\n",
    "cvlr_rw = cv_10f(lr, Xrw, yrw, Xrw_train, yrw_train)\n",
    "cvlr_ww = cv_10f(lr, Xww, yww, Xww_train, yww_train)\n",
    "\n",
    "#OPTIMIZATION OF LAMBDA - REGULARIZATION\n",
    "    #NOTE !! - C is the inverse of lambda (so this needs to be adapted later)\n",
    "#initialize the values of C\n",
    "l_list_rw = [] \n",
    "l_list_ww = []\n",
    "start = 0.01\n",
    "end = 0.3\n",
    "steps = 30\n",
    "L = np.linspace(start, end, num=steps) #range of C's we want to test for optimalization \n",
    "# Do 10-fold cv for all C's in the range\n",
    "for l in L:\n",
    "    lr = LogisticRegression(C = l)               #initiate function with new parameter C\n",
    "    l_list_rw.append(cvlr_rw[1])                 #save average 10-fold cv value for that C\n",
    "    l_list_ww.append(cvlr_ww[1])                 #save average 10-fold cv value for that C\n",
    "stepsize = (end-start)/steps                     #calculates the stepsize in the range\n",
    "optC_rw = 0.01+(l_list_rw.index(max(l_list_rw)))*stepsize #calculate optimal C\n",
    "optC_ww = 0.01+(l_list_ww.index(max(l_list_ww)))*stepsize #calculate optimal C\n",
    "\n",
    "\n",
    "# function to tune k and lambda\n",
    "def tune_single_param(clf, param_name, param_grid, x_train, y_train):\n",
    "    grid_search = GridSearchCV(clf, param_grid=param_grid, cv=10)\n",
    "    grid_search.fit(x_train, y_train)\n",
    "    best_param = list(grid_search.best_params_.values())[0]\n",
    "    plt.plot(param_grid[param_name], grid_search.cv_results_['mean_test_score']) # plot accuracy scores against parameters\n",
    "    plt.title(\"Performances of \" + param_name)\n",
    "    plt.xlabel(param_name)\n",
    "    plt.ylabel(\"Scores\")\n",
    "    return best_param\n",
    "\n",
    "#OPTIMIZED FUNCTIONS\n",
    "opt_cvlr_rw = cv_10f(LogisticRegression(C = optC_rw), Xrw, yrw, Xrw_train, yrw_train)\n",
    "opt_cvlr_ww = cv_10f(LogisticRegression(C = optC_ww), Xww, yww, Xww_train, yww_train)\n"
   ]
  },
  {
   "cell_type": "code",
   "execution_count": 1,
   "metadata": {
    "collapsed": false
   },
   "outputs": [
    {
     "ename": "NameError",
     "evalue": "name 'optimized_lr' is not defined",
     "output_type": "error",
     "traceback": [
      "\u001b[0;31m---------------------------------------------------------------------------\u001b[0m",
      "\u001b[0;31mNameError\u001b[0m                                 Traceback (most recent call last)",
      "\u001b[0;32m<ipython-input-1-dd23380d95d6>\u001b[0m in \u001b[0;36m<module>\u001b[0;34m()\u001b[0m\n\u001b[1;32m      2\u001b[0m \u001b[0mtarget_names\u001b[0m \u001b[0;34m=\u001b[0m \u001b[0;34m[\u001b[0m\u001b[0mstr\u001b[0m\u001b[0;34m(\u001b[0m\u001b[0mdigit\u001b[0m\u001b[0;34m)\u001b[0m \u001b[0;32mfor\u001b[0m \u001b[0mdigit\u001b[0m \u001b[0;32min\u001b[0m \u001b[0mrange\u001b[0m\u001b[0;34m(\u001b[0m\u001b[0;36m0\u001b[0m\u001b[0;34m,\u001b[0m\u001b[0;36m10\u001b[0m\u001b[0;34m)\u001b[0m\u001b[0;34m]\u001b[0m  \u001b[0;31m#class labels (digits)\u001b[0m\u001b[0;34m\u001b[0m\u001b[0m\n\u001b[1;32m      3\u001b[0m \u001b[0;31m#predict labels with the optimized function\u001b[0m\u001b[0;34m\u001b[0m\u001b[0;34m\u001b[0m\u001b[0m\n\u001b[0;32m----> 4\u001b[0;31m \u001b[0mlry_predict\u001b[0m \u001b[0;34m=\u001b[0m \u001b[0moptimized_lr\u001b[0m\u001b[0;34m.\u001b[0m\u001b[0mfit\u001b[0m\u001b[0;34m(\u001b[0m\u001b[0mX_test_scaled_mnist\u001b[0m\u001b[0;34m,\u001b[0m \u001b[0my_test_mnist\u001b[0m\u001b[0;34m)\u001b[0m\u001b[0;34m.\u001b[0m\u001b[0mpredict\u001b[0m\u001b[0;34m(\u001b[0m\u001b[0mX_test_scaled_mnist\u001b[0m\u001b[0;34m)\u001b[0m \u001b[0;31m#Logistic Regression with C = 0.0486666\u001b[0m\u001b[0;34m\u001b[0m\u001b[0m\n\u001b[0m\u001b[1;32m      5\u001b[0m \u001b[0;34m\u001b[0m\u001b[0m\n\u001b[1;32m      6\u001b[0m \u001b[0;31m#CONFUSION MATRIX\u001b[0m\u001b[0;34m\u001b[0m\u001b[0;34m\u001b[0m\u001b[0m\n",
      "\u001b[0;31mNameError\u001b[0m: name 'optimized_lr' is not defined"
     ]
    }
   ],
   "source": [
    "#CLASSIFICATION REPORTS\n",
    "target_names = [str(digit) for digit in range(0,10)]  #class labels (digits)\n",
    "#predict labels with the optimized function\n",
    "lry_predict = optimized_lr.fit(X_test_scaled_mnist, y_test_mnist).predict(X_test_scaled_mnist) #Logistic Regression with C = 0.0486666\n",
    "\n",
    "#CONFUSION MATRIX\n",
    "lr_cm = confusion_matrix(y_test_mnist, lry_predict)   #linear regression confusion matrix"
   ]
  },
  {
   "cell_type": "code",
   "execution_count": null,
   "metadata": {
    "collapsed": true
   },
   "outputs": [],
   "source": [
    "#plot the accuracy values for differen C values\n",
    "plt.title(\"Accuracy for C\")\n",
    "plt.ylabel(\"Accuracy\")\n",
    "plt.xlabel(\"value of C\")\n",
    "plt.plot(L,l_list)\n",
    "\n",
    "#Report the highest accuracy and it's corresponding optimal value of C\n",
    "print(\"The highest accuracy rate:\",max(l_list),\"is achieved with C =\",optC, ', so lambda = ',1/optC)"
   ]
  },
  {
   "cell_type": "code",
   "execution_count": null,
   "metadata": {
    "collapsed": true
   },
   "outputs": [],
   "source": [
    "print(\"Logistic Regression: \\n default parameters:\\n   average cv:\",lrcv10[1],\"\\n   standard deviation:\",lrcv10[2],\"\\n function with optimized parameter C =\", optC,\":\\n   average cv:\",opt_lrcv10[1],\"\\n   standard deviation:\",opt_lrcv10[2])\n"
   ]
  },
  {
   "cell_type": "code",
   "execution_count": null,
   "metadata": {
    "collapsed": true
   },
   "outputs": [],
   "source": [
    "print(\"Logistic Regression Classification Report:\\n\",classification_report(y_test_mnist, lry_predict, target_names=target_names))"
   ]
  },
  {
   "cell_type": "code",
   "execution_count": null,
   "metadata": {
    "collapsed": true
   },
   "outputs": [],
   "source": [
    "print(\"Logistic Regression: \\n\",lr_cm)"
   ]
  },
  {
   "cell_type": "code",
   "execution_count": null,
   "metadata": {
    "collapsed": true
   },
   "outputs": [],
   "source": []
  }
 ],
 "metadata": {
  "kernelspec": {
   "display_name": "Python 3",
   "language": "python",
   "name": "python3"
  },
  "language_info": {
   "codemirror_mode": {
    "name": "ipython",
    "version": 3
   },
   "file_extension": ".py",
   "mimetype": "text/x-python",
   "name": "python",
   "nbconvert_exporter": "python",
   "pygments_lexer": "ipython3",
   "version": "3.6.0"
  }
 },
 "nbformat": 4,
 "nbformat_minor": 2
}
